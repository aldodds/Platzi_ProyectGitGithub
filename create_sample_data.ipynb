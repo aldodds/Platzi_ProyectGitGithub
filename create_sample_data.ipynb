{
 "cells": [
  {
   "cell_type": "markdown",
   "id": "f6ea9942-27df-4970-adf1-553e7ce91e03",
   "metadata": {},
   "source": [
    "# Project of sale analysis"
   ]
  },
  {
   "cell_type": "markdown",
   "id": "f31ef10a-b849-412d-b23a-887a54a84665",
   "metadata": {
    "jp-MarkdownHeadingCollapsed": true,
    "tags": []
   },
   "source": [
    "## Code base"
   ]
  },
  {
   "cell_type": "code",
   "execution_count": 3,
   "id": "513d6742-b4cc-4a06-b686-32d0f430651a",
   "metadata": {
    "jp-MarkdownHeadingCollapsed": true,
    "tags": []
   },
   "outputs": [
    {
     "data": {
      "text/html": [
       "<div>\n",
       "<style scoped>\n",
       "    .dataframe tbody tr th:only-of-type {\n",
       "        vertical-align: middle;\n",
       "    }\n",
       "\n",
       "    .dataframe tbody tr th {\n",
       "        vertical-align: top;\n",
       "    }\n",
       "\n",
       "    .dataframe thead th {\n",
       "        text-align: right;\n",
       "    }\n",
       "</style>\n",
       "<table border=\"1\" class=\"dataframe\">\n",
       "  <thead>\n",
       "    <tr style=\"text-align: right;\">\n",
       "      <th></th>\n",
       "      <th>Date</th>\n",
       "      <th>Product</th>\n",
       "      <th>Sales</th>\n",
       "      <th>Revenue</th>\n",
       "    </tr>\n",
       "  </thead>\n",
       "  <tbody>\n",
       "    <tr>\n",
       "      <th>0</th>\n",
       "      <td>2023-01-01</td>\n",
       "      <td>C</td>\n",
       "      <td>514</td>\n",
       "      <td>3247.466769</td>\n",
       "    </tr>\n",
       "    <tr>\n",
       "      <th>1</th>\n",
       "      <td>2023-01-02</td>\n",
       "      <td>D</td>\n",
       "      <td>397</td>\n",
       "      <td>1954.387439</td>\n",
       "    </tr>\n",
       "    <tr>\n",
       "      <th>2</th>\n",
       "      <td>2023-01-03</td>\n",
       "      <td>A</td>\n",
       "      <td>710</td>\n",
       "      <td>3719.379120</td>\n",
       "    </tr>\n",
       "    <tr>\n",
       "      <th>3</th>\n",
       "      <td>2023-01-04</td>\n",
       "      <td>C</td>\n",
       "      <td>362</td>\n",
       "      <td>3959.635042</td>\n",
       "    </tr>\n",
       "    <tr>\n",
       "      <th>4</th>\n",
       "      <td>2023-01-05</td>\n",
       "      <td>C</td>\n",
       "      <td>863</td>\n",
       "      <td>1952.944610</td>\n",
       "    </tr>\n",
       "    <tr>\n",
       "      <th>...</th>\n",
       "      <td>...</td>\n",
       "      <td>...</td>\n",
       "      <td>...</td>\n",
       "      <td>...</td>\n",
       "    </tr>\n",
       "    <tr>\n",
       "      <th>360</th>\n",
       "      <td>2023-12-27</td>\n",
       "      <td>D</td>\n",
       "      <td>647</td>\n",
       "      <td>4514.516461</td>\n",
       "    </tr>\n",
       "    <tr>\n",
       "      <th>361</th>\n",
       "      <td>2023-12-28</td>\n",
       "      <td>A</td>\n",
       "      <td>195</td>\n",
       "      <td>2981.694506</td>\n",
       "    </tr>\n",
       "    <tr>\n",
       "      <th>362</th>\n",
       "      <td>2023-12-29</td>\n",
       "      <td>A</td>\n",
       "      <td>763</td>\n",
       "      <td>3965.843645</td>\n",
       "    </tr>\n",
       "    <tr>\n",
       "      <th>363</th>\n",
       "      <td>2023-12-30</td>\n",
       "      <td>B</td>\n",
       "      <td>762</td>\n",
       "      <td>3292.603397</td>\n",
       "    </tr>\n",
       "    <tr>\n",
       "      <th>364</th>\n",
       "      <td>2023-12-31</td>\n",
       "      <td>C</td>\n",
       "      <td>289</td>\n",
       "      <td>4990.770464</td>\n",
       "    </tr>\n",
       "  </tbody>\n",
       "</table>\n",
       "<p>365 rows × 4 columns</p>\n",
       "</div>"
      ],
      "text/plain": [
       "          Date Product  Sales      Revenue\n",
       "0   2023-01-01       C    514  3247.466769\n",
       "1   2023-01-02       D    397  1954.387439\n",
       "2   2023-01-03       A    710  3719.379120\n",
       "3   2023-01-04       C    362  3959.635042\n",
       "4   2023-01-05       C    863  1952.944610\n",
       "..         ...     ...    ...          ...\n",
       "360 2023-12-27       D    647  4514.516461\n",
       "361 2023-12-28       A    195  2981.694506\n",
       "362 2023-12-29       A    763  3965.843645\n",
       "363 2023-12-30       B    762  3292.603397\n",
       "364 2023-12-31       C    289  4990.770464\n",
       "\n",
       "[365 rows x 4 columns]"
      ]
     },
     "execution_count": 3,
     "metadata": {},
     "output_type": "execute_result"
    }
   ],
   "source": [
    "# Libraries\n",
    "import sys\n",
    "import pandas as pd\n",
    "import numpy as np\n",
    "import matplotlib.pyplot as plt\n",
    "import seaborn as sns\n",
    "\n",
    "# Set random seed for reproducibility\n",
    "np.random.seed(42)\n",
    "\n",
    "# Create a date range for 12 months (365 days)\n",
    "date_range = pd.date_range(start='2023-01-01', end='2023-12-31', freq='D')\n",
    "\n",
    "# Create a dictionary with sample data\n",
    "data = {\n",
    "    'Date': date_range,\n",
    "    'Product': np.random.choice(['A','B','C','D'], size=len(date_range)),\n",
    "    'Sales': np.random.randint(100, 1000, size = len(date_range)),\n",
    "    'Revenue': np.random.uniform(1000, 5000, size=len(date_range))\n",
    "}\n",
    "\n",
    "# Create a pandas DataFrame with the generated data\n",
    "df = pd.DataFrame(data)\n",
    "\n",
    "# Display the DataFrame\n",
    "df"
   ]
  },
  {
   "cell_type": "markdown",
   "id": "92934b96-6f5a-4adb-b92d-25287ce72ed0",
   "metadata": {
    "tags": []
   },
   "source": [
    "## Exploratory Data Analysis (EDA)"
   ]
  },
  {
   "cell_type": "markdown",
   "id": "66162c7d-947a-4981-943f-43eb7b69a9b5",
   "metadata": {
    "jp-MarkdownHeadingCollapsed": true,
    "tags": []
   },
   "source": [
    "### a) Descriptive analysis"
   ]
  },
  {
   "cell_type": "code",
   "execution_count": 6,
   "id": "1743db98-708a-4a12-89a8-99e3dec177e6",
   "metadata": {},
   "outputs": [
    {
     "name": "stdout",
     "output_type": "stream",
     "text": [
      "                      Date       Sales      Revenue\n",
      "count                  365  365.000000   365.000000\n",
      "mean   2023-07-02 00:00:00  561.405479  3045.354597\n",
      "min    2023-01-01 00:00:00  101.000000  1010.380098\n",
      "25%    2023-04-02 00:00:00  319.000000  2083.830570\n",
      "50%    2023-07-02 00:00:00  573.000000  3125.063016\n",
      "75%    2023-10-01 00:00:00  788.000000  3965.843645\n",
      "max    2023-12-31 00:00:00  997.000000  4990.770464\n",
      "std                    NaN  269.951481  1128.790493\n",
      "<class 'pandas.core.frame.DataFrame'>\n",
      "RangeIndex: 365 entries, 0 to 364\n",
      "Data columns (total 4 columns):\n",
      " #   Column   Non-Null Count  Dtype         \n",
      "---  ------   --------------  -----         \n",
      " 0   Date     365 non-null    datetime64[ns]\n",
      " 1   Product  365 non-null    object        \n",
      " 2   Sales    365 non-null    int32         \n",
      " 3   Revenue  365 non-null    float64       \n",
      "dtypes: datetime64[ns](1), float64(1), int32(1), object(1)\n",
      "memory usage: 10.1+ KB\n",
      "None\n",
      "\n",
      "Unique values in Date:\n",
      "Date\n",
      "2023-01-01    1\n",
      "2023-09-09    1\n",
      "2023-09-07    1\n",
      "2023-09-06    1\n",
      "2023-09-05    1\n",
      "             ..\n",
      "2023-05-01    1\n",
      "2023-04-30    1\n",
      "2023-04-29    1\n",
      "2023-04-28    1\n",
      "2023-12-31    1\n",
      "Name: count, Length: 365, dtype: int64\n",
      "\n",
      "Unique values in Product:\n",
      "Product\n",
      "D    102\n",
      "C     96\n",
      "A     87\n",
      "B     80\n",
      "Name: count, dtype: int64\n",
      "\n",
      "Unique values in Sales:\n",
      "Sales\n",
      "198    5\n",
      "758    4\n",
      "875    3\n",
      "915    3\n",
      "552    3\n",
      "      ..\n",
      "589    1\n",
      "485    1\n",
      "884    1\n",
      "910    1\n",
      "647    1\n",
      "Name: count, Length: 299, dtype: int64\n",
      "\n",
      "Unique values in Revenue:\n",
      "Revenue\n",
      "3247.466769    1\n",
      "2895.879766    1\n",
      "1932.865646    1\n",
      "3141.342256    1\n",
      "1356.817315    1\n",
      "              ..\n",
      "2645.020466    1\n",
      "1659.337045    1\n",
      "3206.351490    1\n",
      "4506.645944    1\n",
      "4990.770464    1\n",
      "Name: count, Length: 365, dtype: int64\n"
     ]
    },
    {
     "data": {
      "image/png": "[encoded data removed]",
      "text/plain": [
       "<Figure size 1500x600 with 2 Axes>"
      ]
     },
     "metadata": {},
     "output_type": "display_data"
    }
   ],
   "source": [
    "# Descriptive statistics\n",
    "print(df.describe()) #Provide summary statistics of the DataFrame\n",
    "\n",
    "# Information about the kind of data and unique data\n",
    "print(df.info())\n",
    "\n",
    "# Counting for unique values per column\n",
    "for column in df.columns:\n",
    "    print(f\"\\nUnique values in {column}:\")\n",
    "    print(df[column].value_counts())\n",
    "\n",
    "# Distribution of sales and income\n",
    "fig, (ax1, ax2) = plt.subplots(1, 2, figsize=(15,6))\n",
    "\n",
    "sns.histplot(df['Sales'], kde=True, ax=ax1)\n",
    "ax1.set_title('Distribution of sales')\n",
    "ax1.set_xlabel('Sales')\n",
    "              \n",
    "sns.histplot(df['Revenue'], kde=True, ax=ax2)\n",
    "ax2.set_title('Distribution of incomes')\n",
    "ax2.set_xlabel('Income')\n",
    "             \n",
    "plt.tight_layout()\n",
    "plt.show()"
   ]
  },
  {
   "cell_type": "markdown",
   "id": "ab50229e-d2f3-48fc-a877-352d6689a20b",
   "metadata": {},
   "source": [
    "### b) Variable type settings"
   ]
  },
  {
   "cell_type": "code",
   "execution_count": 22,
   "id": "24b924a8-625f-4b98-b669-86f0e5f2248b",
   "metadata": {},
   "outputs": [
    {
     "name": "stdout",
     "output_type": "stream",
     "text": [
      "Date       datetime64[ns]\n",
      "Product            object\n",
      "Sales               int32\n",
      "Revenue           float64\n",
      "dtype: object\n",
      "Date       datetime64[ns]\n",
      "Product          category\n",
      "Sales               int32\n",
      "Revenue           float64\n",
      "dtype: object\n"
     ]
    }
   ],
   "source": [
    "# Verify present variable types\n",
    "print(df.dtypes)\n",
    "\n",
    "#Get sure about \"Date\" it's a float type\n",
    "df['Date'] = pd.to_datetime(df['Date'])\n",
    "\n",
    "#Get sure about \"Product\" it's a category type\n",
    "df['Product'] = df['Product'].astype('category')\n",
    "\n",
    "#Get sure about \"Sales\" it's a integer type\n",
    "df['Sales'] = df['Sales'].astype(int)\n",
    "\n",
    "#Get sure about \"Date\" it's a float type\n",
    "df['Revenue'] = df['Revenue'].astype(float)\n",
    "\n",
    "# Verify the new data types\n",
    "print(df.dtypes)"
   ]
  },
  {
   "cell_type": "code",
   "execution_count": null,
   "id": "879ddc6b-6106-41e1-a5a1-a7e39d6946e0",
   "metadata": {},
   "outputs": [],
   "source": []
  }
 ],
 "metadata": {
  "kernelspec": {
   "display_name": "Python 3 (ipykernel)",
   "language": "python",
   "name": "python3"
  },
  "language_info": {
   "codemirror_mode": {
    "name": "ipython",
    "version": 3
   },
   "file_extension": ".py",
   "mimetype": "text/x-python",
   "name": "python",
   "nbconvert_exporter": "python",
   "pygments_lexer": "ipython3",
   "version": "3.11.5"
  }
 },
 "nbformat": 4,
 "nbformat_minor": 5
}
